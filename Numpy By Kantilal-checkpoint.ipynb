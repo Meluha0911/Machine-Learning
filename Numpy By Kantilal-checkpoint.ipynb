{
 "cells": [
  {
   "cell_type": "markdown",
   "id": "bfb9e623",
   "metadata": {},
   "source": [
    "# NUMPY"
   ]
  },
  {
   "cell_type": "code",
   "execution_count": null,
   "id": "6f769082",
   "metadata": {},
   "outputs": [],
   "source": [
    "# It is also a data structure like list, tuple, set .i.e a collection of element's. As already there are list, tuple etc \n",
    "# then why there iis need of Numpy -- generally complex operation, scientific operation, statistic's , boolean algebra iske\n",
    "# jo examples hai, expression usko solve karnekeliye Numpy is necessary. It has many built in functionalities -- eg SD, mean\n",
    "# mode, median, wo hum easily calculate kar sakte hai -- bcz numpy main wo already code likhake rakha hai.\n",
    "# In short numpy complex mathematical problem/ expression ko solve karnekeliye Numpy built hua hai.\n",
    "# Fullform of Numpy is Numerical Python.\n",
    "# Numpy is faster than list, tuple. Compplex Operation's can be perform fastly with the help of Numpy -- Why we use Numpy?\n",
    "# It is faster because it is lightweight so consume less memory, It is written(built) in \"C\" language which is faster.\n",
    "# List and tuple main hume controll nahi rehta ki exactally kitne bytes ka element banana hai but Numpy we can specify for \n",
    "# aapka data two digit hai to hum specify kar sakte hai ki usko jo memory space allocate hoga wo sum bit ka allocate hoga.\n",
    "# isase equivalent block of memory create hoti hai.\n",
    "# It's operation's are similar to operation's om list and tuple -- It is an also data structure like that \n",
    "# Numpy pandas ke sath aa jata hai inbuild so no need to install it seperately\n",
    "# "
   ]
  },
  {
   "cell_type": "code",
   "execution_count": 1,
   "id": "2b601931",
   "metadata": {},
   "outputs": [
    {
     "name": "stdout",
     "output_type": "stream",
     "text": [
      "Requirement already satisfied: numpy in c:\\users\\sanke\\anaconda3\\lib\\site-packages (1.21.5)\n",
      "Note: you may need to restart the kernel to use updated packages.\n"
     ]
    }
   ],
   "source": [
    "pip install numpy"
   ]
  },
  {
   "cell_type": "code",
   "execution_count": 1,
   "id": "4f6f31ba",
   "metadata": {},
   "outputs": [],
   "source": [
    "import numpy as np"
   ]
  },
  {
   "cell_type": "code",
   "execution_count": 3,
   "id": "3da5d88b",
   "metadata": {},
   "outputs": [
    {
     "data": {
      "text/plain": [
       "array([1, 2, 3, 4, 5, 6, 7])"
      ]
     },
     "execution_count": 3,
     "metadata": {},
     "output_type": "execute_result"
    }
   ],
   "source": [
    "# How to create numpy array -- array is collection of similar type of data -- isme similar type ka data hota hai -- means \n",
    "# agar integer ka data hoga to sab integer type ka data hoga means homogenous type ka data\n",
    "# How to create array\n",
    "a = np.array([1,2,3,4,5,6,7])\n",
    "a"
   ]
  },
  {
   "cell_type": "code",
   "execution_count": 4,
   "id": "9be5574a",
   "metadata": {},
   "outputs": [
    {
     "data": {
      "text/plain": [
       "numpy.ndarray"
      ]
     },
     "execution_count": 4,
     "metadata": {},
     "output_type": "execute_result"
    }
   ],
   "source": [
    "type(a) # nd means n dimesional array"
   ]
  },
  {
   "cell_type": "code",
   "execution_count": null,
   "id": "cc4554e2",
   "metadata": {},
   "outputs": [],
   "source": [
    "# Jaise hum list, tuple only 1D create kar sakte hai but Numpy main hum we can create ND  -- N dimensional 1D, 2D, 3D jitne\n",
    "# abhi dimension ka data create karna hai we can create with the help of numpy array\n",
    "# Generally numpy iis used for matrix calculation\n",
    "# Inbuild operations are maximum in numpy"
   ]
  },
  {
   "cell_type": "code",
   "execution_count": 5,
   "id": "428e298f",
   "metadata": {},
   "outputs": [
    {
     "data": {
      "text/plain": [
       "1"
      ]
     },
     "execution_count": 5,
     "metadata": {},
     "output_type": "execute_result"
    }
   ],
   "source": [
    "# just like list we can access elements of numpy using indexing\n",
    "a[0]"
   ]
  },
  {
   "cell_type": "code",
   "execution_count": 2,
   "id": "73c4b78e",
   "metadata": {},
   "outputs": [
    {
     "data": {
      "text/plain": [
       "array([[1, 2, 3, 4],\n",
       "       [5, 6, 7, 8]])"
      ]
     },
     "execution_count": 2,
     "metadata": {},
     "output_type": "execute_result"
    }
   ],
   "source": [
    "# How to create two dimensional array containing row's and column\n",
    "d = np.array([[1,2,3,4],[5,6,7,8]])\n",
    "d"
   ]
  },
  {
   "cell_type": "code",
   "execution_count": 4,
   "id": "bd8e3ef0",
   "metadata": {},
   "outputs": [
    {
     "data": {
      "text/plain": [
       "(2, 4)"
      ]
     },
     "execution_count": 4,
     "metadata": {},
     "output_type": "execute_result"
    }
   ],
   "source": [
    "d.shape #indicate that there are two column's and four column's"
   ]
  },
  {
   "cell_type": "code",
   "execution_count": 7,
   "id": "77981ff4",
   "metadata": {},
   "outputs": [
    {
     "data": {
      "text/plain": [
       "dtype('int32')"
      ]
     },
     "execution_count": 7,
     "metadata": {},
     "output_type": "execute_result"
    }
   ],
   "source": [
    "d.dtype # to see the data type of the values -- usme konsa data wo dekhane keliye -- show usme integer data hai\n",
    "# it shows ek element main kitna memory occupy kiya hai wo dikhata hai"
   ]
  },
  {
   "cell_type": "code",
   "execution_count": 8,
   "id": "e6d5e23e",
   "metadata": {},
   "outputs": [
    {
     "data": {
      "text/plain": [
       "4"
      ]
     },
     "execution_count": 8,
     "metadata": {},
     "output_type": "execute_result"
    }
   ],
   "source": [
    "# agar item size dekhana hai ki kitne byte ka hai then\n",
    "d.itemsize  # 1 byte = 8 bit  so 32 bit means 4 bytes"
   ]
  },
  {
   "cell_type": "code",
   "execution_count": 10,
   "id": "10405d1b",
   "metadata": {},
   "outputs": [
    {
     "data": {
      "text/plain": [
       "32"
      ]
     },
     "execution_count": 10,
     "metadata": {},
     "output_type": "execute_result"
    }
   ],
   "source": [
    "d.itemsize * d.size # This show's total number of bytes occupied "
   ]
  },
  {
   "cell_type": "code",
   "execution_count": 11,
   "id": "fd1422ea",
   "metadata": {},
   "outputs": [
    {
     "data": {
      "text/plain": [
       "array([[1, 2, 3, 4],\n",
       "       [5, 6, 7, 8]], dtype=int8)"
      ]
     },
     "execution_count": 11,
     "metadata": {},
     "output_type": "execute_result"
    }
   ],
   "source": [
    "# we have controll over the size for eg we can specify here byte\n",
    "b = np.array([[1,2,3,4],[5,6,7,8]],dtype = 'int8')\n",
    "b # means size it occupied is controlled here"
   ]
  },
  {
   "cell_type": "code",
   "execution_count": 12,
   "id": "dc465d32",
   "metadata": {},
   "outputs": [
    {
     "data": {
      "text/plain": [
       "dtype('int8')"
      ]
     },
     "execution_count": 12,
     "metadata": {},
     "output_type": "execute_result"
    }
   ],
   "source": [
    "b.dtype"
   ]
  },
  {
   "cell_type": "code",
   "execution_count": 13,
   "id": "bb70702b",
   "metadata": {},
   "outputs": [
    {
     "data": {
      "text/plain": [
       "1"
      ]
     },
     "execution_count": 13,
     "metadata": {},
     "output_type": "execute_result"
    }
   ],
   "source": [
    "b.itemsize # here one element ne 1 byte consume kiya"
   ]
  },
  {
   "cell_type": "code",
   "execution_count": 14,
   "id": "bfcb252c",
   "metadata": {},
   "outputs": [
    {
     "data": {
      "text/plain": [
       "8"
      ]
     },
     "execution_count": 14,
     "metadata": {},
     "output_type": "execute_result"
    }
   ],
   "source": [
    "b.size * b.itemsize # total bytes consume by the array are 8 as one item consume one byte -- so in array memory consumption\n",
    "# can be controlled which is not possible in the list"
   ]
  },
  {
   "cell_type": "code",
   "execution_count": 15,
   "id": "1bda661a",
   "metadata": {},
   "outputs": [
    {
     "data": {
      "text/plain": [
       "28"
      ]
     },
     "execution_count": 15,
     "metadata": {},
     "output_type": "execute_result"
    }
   ],
   "source": [
    "# let's see memory consume by the list\n",
    "import sys\n",
    "temp = [23,45,67,43,76,98,23]\n",
    "sys.getsizeof(23) # so here one value consume 28 bytes that's why numpy array is preferable"
   ]
  },
  {
   "cell_type": "code",
   "execution_count": 16,
   "id": "ef6f392f",
   "metadata": {},
   "outputs": [
    {
     "data": {
      "text/plain": [
       "196"
      ]
     },
     "execution_count": 16,
     "metadata": {},
     "output_type": "execute_result"
    }
   ],
   "source": [
    "sys.getsizeof(23)*len(temp) # so in total the entire list consume 196 bytes -- so list is heavy weight"
   ]
  },
  {
   "cell_type": "code",
   "execution_count": null,
   "id": "a49c687f",
   "metadata": {},
   "outputs": [],
   "source": [
    "# 8 bit's means 1 byte for eg here 1  can be place in 1 byte also in 2 byte also in 3 bytes\n",
    "1 byte = 0 0 0 0 0 0 0 1\n",
    "2 byte = 0 0 0 0 0 0 0 0 0 0 0 0 0 0 0 0 0 1\n",
    "3 byte = 0 0 0 0 0 0 0 0 0 0 0 0 0 0 0 0 0 0 0 0 0 0 0 0 0 1 # This is unnecessary\n",
    "# just bit's are increasing nothing else"
   ]
  },
  {
   "cell_type": "code",
   "execution_count": 17,
   "id": "0ad8bff3",
   "metadata": {},
   "outputs": [
    {
     "data": {
      "text/plain": [
       "2"
      ]
     },
     "execution_count": 17,
     "metadata": {},
     "output_type": "execute_result"
    }
   ],
   "source": [
    "# how to check dimension of array\n",
    "b.ndim # so it gives result that 2 dimension data"
   ]
  },
  {
   "cell_type": "code",
   "execution_count": null,
   "id": "27553bab",
   "metadata": {},
   "outputs": [],
   "source": [
    "# DF is collection of row's and column with default indexes( indices ) but actual data column name and index line exclude\n",
    "# karke jo bachata hai wo hota hai it's nothing but matrix isiko hum (only numerical data -- koi column name nahi kuch nahi\n",
    "# usko column name kuch pata nahi hota ML algorithm ko wo just aapka jo numerical data hai uspehi algoeithm apply karta hai)\n",
    "# ML algorithm ko pass karte hai. To ye numerical data of DF excluding column name and index is nothing but matrix(row & \n",
    "# colum) eg [1,2,3,4],[5,6,7,8] so here this is rows and columns to ispe operation karna hai to at the end hume numpy array\n",
    "# -pehi operation karna padta hai agar nahi karte ho to ML algorithm usko inbuild convert karkehi leta hai."
   ]
  },
  {
   "cell_type": "code",
   "execution_count": 20,
   "id": "49c69b45",
   "metadata": {},
   "outputs": [
    {
     "data": {
      "text/plain": [
       "array([5, 6, 7, 8], dtype=int8)"
      ]
     },
     "execution_count": 20,
     "metadata": {},
     "output_type": "execute_result"
    }
   ],
   "source": [
    "# Manlo hume kuch data ko access karna hai for eg specific element hogaya row hogaya column hogaya to same like jaise list \n",
    "# mein DF main karte the same waisehi karenge\n",
    "# Agar mujhe specific element chahiye to yahape row's and column wala funda hai eg b[row,column]\n",
    "b[1,:] # 1st row humne access kiya agar"
   ]
  },
  {
   "cell_type": "code",
   "execution_count": 23,
   "id": "0774a9d5",
   "metadata": {},
   "outputs": [
    {
     "data": {
      "text/plain": [
       "array([7, 8], dtype=int8)"
      ]
     },
     "execution_count": 23,
     "metadata": {},
     "output_type": "execute_result"
    }
   ],
   "source": [
    "# agar hume 0 row access karna hai to\n",
    "b[1,2:]"
   ]
  },
  {
   "cell_type": "code",
   "execution_count": 24,
   "id": "66c1e599",
   "metadata": {},
   "outputs": [
    {
     "data": {
      "text/plain": [
       "7"
      ]
     },
     "execution_count": 24,
     "metadata": {},
     "output_type": "execute_result"
    }
   ],
   "source": [
    "# Now I want to access 7 then how to do that\n",
    "b[1,2]"
   ]
  },
  {
   "cell_type": "code",
   "execution_count": 25,
   "id": "17f01ce4",
   "metadata": {},
   "outputs": [
    {
     "data": {
      "text/plain": [
       "4"
      ]
     },
     "execution_count": 25,
     "metadata": {},
     "output_type": "execute_result"
    }
   ],
   "source": [
    "# How to acess 4\n",
    "b[0,3]"
   ]
  },
  {
   "cell_type": "code",
   "execution_count": 27,
   "id": "7ff0d007",
   "metadata": {},
   "outputs": [
    {
     "data": {
      "text/plain": [
       "array([1. , 2. , 3. , 4. , 5.3, 6. ])"
      ]
     },
     "execution_count": 27,
     "metadata": {},
     "output_type": "execute_result"
    }
   ],
   "source": [
    "# if in list we pass one value as float and remaining as int then by default other value will be converted into float\n",
    "d = [1,2,3,4,5.3,6]\n",
    "f = np.array(d)\n",
    "f"
   ]
  },
  {
   "cell_type": "code",
   "execution_count": null,
   "id": "ed831af3",
   "metadata": {},
   "outputs": [],
   "source": [
    "# In numpy data will be always in the numerical form in the case of ML\n",
    "# categorical data hai eg city hai to hum city ko encode karte hai number main, mmanlo gender hai to iskobhi hum encode \n",
    "# karte hai 1 or 0 -- to  always hum machine laerning ko hum numerical data dete hai -- categorical data nahi jata"
   ]
  },
  {
   "cell_type": "code",
   "execution_count": 28,
   "id": "ee4e3b21",
   "metadata": {},
   "outputs": [
    {
     "data": {
      "text/plain": [
       "array([[[1, 2, 3],\n",
       "        [4, 5, 6],\n",
       "        [7, 8, 9]]])"
      ]
     },
     "execution_count": 28,
     "metadata": {},
     "output_type": "execute_result"
    }
   ],
   "source": [
    "# How to create 3D numpy array\n",
    "a = np.array([[[1,2,3],[4,5,6],[7,8,9]]])\n",
    "a"
   ]
  },
  {
   "cell_type": "code",
   "execution_count": 29,
   "id": "53da8344",
   "metadata": {},
   "outputs": [
    {
     "data": {
      "text/plain": [
       "3"
      ]
     },
     "execution_count": 29,
     "metadata": {},
     "output_type": "execute_result"
    }
   ],
   "source": [
    "a.ndim # so here three dimensional data create hua"
   ]
  },
  {
   "cell_type": "code",
   "execution_count": 31,
   "id": "c2532ef0",
   "metadata": {},
   "outputs": [
    {
     "data": {
      "text/plain": [
       "5"
      ]
     },
     "execution_count": 31,
     "metadata": {},
     "output_type": "execute_result"
    }
   ],
   "source": [
    "a[0,1,1]"
   ]
  },
  {
   "cell_type": "code",
   "execution_count": 33,
   "id": "cacbada6",
   "metadata": {},
   "outputs": [
    {
     "data": {
      "text/plain": [
       "array([[[ 1,  2,  3],\n",
       "        [ 4,  5,  6]],\n",
       "\n",
       "       [[11, 22, 33],\n",
       "        [ 7,  8,  9]]])"
      ]
     },
     "execution_count": 33,
     "metadata": {},
     "output_type": "execute_result"
    }
   ],
   "source": [
    "b = np.array([[[1,2,3],[4,5,6]],[[11,22,33],[7,8,9]]])\n",
    "b"
   ]
  },
  {
   "cell_type": "code",
   "execution_count": 35,
   "id": "b672a948",
   "metadata": {},
   "outputs": [
    {
     "data": {
      "text/plain": [
       "5"
      ]
     },
     "execution_count": 35,
     "metadata": {},
     "output_type": "execute_result"
    }
   ],
   "source": [
    "a[0,1,1] # because it is like box front square contain 1 st matrix and backside box contain 2nd matrix\n",
    "# front square 1 st matrix contain 1,2,3,4,5,6 and back square 2nd matrix contain 11,22,33,7,8,9 \n",
    "# so index of front matrix is 0 and back matrix is 1\n",
    "# index of rows inside first matrix is 0 and 1 while index of column's are 0,1,2\n",
    "# FOR EG. [index1, index2, index3]  -- index1 indicate position matrix, index2 indicate position rows, \n",
    "# index3 indicate position column\n",
    "# so if I want to access 5 then how I will access it\n",
    "b[0,1,1]"
   ]
  },
  {
   "cell_type": "code",
   "execution_count": 36,
   "id": "8cae0365",
   "metadata": {},
   "outputs": [
    {
     "data": {
      "text/plain": [
       "9"
      ]
     },
     "execution_count": 36,
     "metadata": {},
     "output_type": "execute_result"
    }
   ],
   "source": [
    "# How to access 9\n",
    "b[1,1,2]"
   ]
  },
  {
   "cell_type": "code",
   "execution_count": 38,
   "id": "5ecbcd24",
   "metadata": {},
   "outputs": [
    {
     "data": {
      "text/plain": [
       "array([[1., 1.],\n",
       "       [1., 1.]])"
      ]
     },
     "execution_count": 38,
     "metadata": {},
     "output_type": "execute_result"
    }
   ],
   "source": [
    "# Generally jab kabhi hume kuch matrix calculation karna hai tab kuch inbuild matrix rehate hai wo useful rehate hai jaise\n",
    "# manlo aapko once wala, zeros wala ya identity matrix create karna hai to ye bahot useful hota hai kabhi kabhi\n",
    "# agar koi DF hai usko transform karna hai ya multiply karna hai matrix se tab use hota hai\n",
    "# for eg\n",
    "a = np.ones((2,2)) # 2 dimensional data\n",
    "a "
   ]
  },
  {
   "cell_type": "code",
   "execution_count": 39,
   "id": "f6124251",
   "metadata": {},
   "outputs": [
    {
     "data": {
      "text/plain": [
       "array([[1, 1],\n",
       "       [1, 1]])"
      ]
     },
     "execution_count": 39,
     "metadata": {},
     "output_type": "execute_result"
    }
   ],
   "source": [
    "# by default ye float wala de raha hai but mujhe integer wala chahiye then how\n",
    "a = np.ones((2,2),dtype='int')\n",
    "a"
   ]
  },
  {
   "cell_type": "code",
   "execution_count": 41,
   "id": "c4c96592",
   "metadata": {},
   "outputs": [
    {
     "data": {
      "text/plain": [
       "array([[[1, 1],\n",
       "        [1, 1]],\n",
       "\n",
       "       [[1, 1],\n",
       "        [1, 1]],\n",
       "\n",
       "       [[1, 1],\n",
       "        [1, 1]]])"
      ]
     },
     "execution_count": 41,
     "metadata": {},
     "output_type": "execute_result"
    }
   ],
   "source": [
    "# How to do three dimension\n",
    "a = np.ones((3,2,2),dtype='int')\n",
    "a"
   ]
  },
  {
   "cell_type": "code",
   "execution_count": 42,
   "id": "c39e5055",
   "metadata": {},
   "outputs": [
    {
     "data": {
      "text/plain": [
       "array([[1, 1, 1, 1],\n",
       "       [1, 1, 1, 1],\n",
       "       [1, 1, 1, 1],\n",
       "       [1, 1, 1, 1]])"
      ]
     },
     "execution_count": 42,
     "metadata": {},
     "output_type": "execute_result"
    }
   ],
   "source": [
    "# mujhe once wala matrix chahiye 4 dimensionka then how\n",
    "a = np.ones((4,4),dtype='int')\n",
    "a"
   ]
  },
  {
   "cell_type": "code",
   "execution_count": 43,
   "id": "d6fda5f4",
   "metadata": {},
   "outputs": [
    {
     "data": {
      "text/plain": [
       "array([[20, 20, 20],\n",
       "       [20, 20, 20],\n",
       "       [20, 20, 20]])"
      ]
     },
     "execution_count": 43,
     "metadata": {},
     "output_type": "execute_result"
    }
   ],
   "source": [
    "# agar mujhe 3 by 3 ka matrix chahiye or sabme 20 values chahiye then how\n",
    "np.full((3,3),20)"
   ]
  },
  {
   "cell_type": "code",
   "execution_count": 44,
   "id": "e333fbe0",
   "metadata": {},
   "outputs": [
    {
     "data": {
      "text/plain": [
       "array([[0.12203719, 0.41873767, 0.70927747],\n",
       "       [0.3074153 , 0.53712888, 0.4874955 ],\n",
       "       [0.53751528, 0.81207208, 0.46052553]])"
      ]
     },
     "execution_count": 44,
     "metadata": {},
     "output_type": "execute_result"
    }
   ],
   "source": [
    "# Generally numpy main integer or flaot ka hi data rehata hai\n",
    "# Agar aapko koi random wala matrix chahiye to \n",
    "np.random.rand(3,3)"
   ]
  },
  {
   "cell_type": "code",
   "execution_count": 45,
   "id": "ed434d4a",
   "metadata": {},
   "outputs": [
    {
     "data": {
      "text/plain": [
       "array([[2, 2, 2],\n",
       "       [2, 2, 2],\n",
       "       [2, 2, 2]])"
      ]
     },
     "execution_count": 45,
     "metadata": {},
     "output_type": "execute_result"
    }
   ],
   "source": [
    "# what if I want matrix in the integer using random\n",
    "np.random.randint(2,3,size=(3,3))"
   ]
  },
  {
   "cell_type": "code",
   "execution_count": 46,
   "id": "ee4efd3b",
   "metadata": {},
   "outputs": [
    {
     "data": {
      "text/plain": [
       "array([[1., 0., 0., 0.],\n",
       "       [0., 1., 0., 0.],\n",
       "       [0., 0., 1., 0.],\n",
       "       [0., 0., 0., 1.]])"
      ]
     },
     "execution_count": 46,
     "metadata": {},
     "output_type": "execute_result"
    }
   ],
   "source": [
    "# Identity matrix create karna hai to np.identity\n",
    "np.identity(4)"
   ]
  },
  {
   "cell_type": "code",
   "execution_count": 47,
   "id": "e22e1cb8",
   "metadata": {},
   "outputs": [
    {
     "data": {
      "text/plain": [
       "array([[2, 2, 2, 2],\n",
       "       [2, 2, 2, 2],\n",
       "       [2, 2, 2, 2],\n",
       "       [2, 2, 2, 2]])"
      ]
     },
     "execution_count": 47,
     "metadata": {},
     "output_type": "execute_result"
    }
   ],
   "source": [
    "a+1 # like this we can perform operation on the matrix so the value of entire matrix changes."
   ]
  },
  {
   "cell_type": "code",
   "execution_count": 48,
   "id": "86182582",
   "metadata": {},
   "outputs": [
    {
     "data": {
      "text/plain": [
       "array([[313, 220, 582],\n",
       "       [517, 560, 520],\n",
       "       [221, 539, 271]])"
      ]
     },
     "execution_count": 48,
     "metadata": {},
     "output_type": "execute_result"
    }
   ],
   "source": [
    "temp = np.random.randint(200,600,size=(3,3))\n",
    "temp"
   ]
  },
  {
   "cell_type": "code",
   "execution_count": 49,
   "id": "8b912101",
   "metadata": {},
   "outputs": [
    {
     "data": {
      "text/plain": [
       "582"
      ]
     },
     "execution_count": 49,
     "metadata": {},
     "output_type": "execute_result"
    }
   ],
   "source": [
    "# how to get max value from the above matrix -- applying statistic's on matrix\n",
    "np.max(temp)"
   ]
  },
  {
   "cell_type": "code",
   "execution_count": 50,
   "id": "18af4647",
   "metadata": {},
   "outputs": [
    {
     "data": {
      "text/plain": [
       "220"
      ]
     },
     "execution_count": 50,
     "metadata": {},
     "output_type": "execute_result"
    }
   ],
   "source": [
    "np.min(temp) # to get min"
   ]
  },
  {
   "cell_type": "code",
   "execution_count": 51,
   "id": "b857e606",
   "metadata": {},
   "outputs": [
    {
     "data": {
      "text/plain": [
       "3743"
      ]
     },
     "execution_count": 51,
     "metadata": {},
     "output_type": "execute_result"
    }
   ],
   "source": [
    "np.sum(temp) # to get sum"
   ]
  },
  {
   "cell_type": "code",
   "execution_count": 52,
   "id": "74b077ee",
   "metadata": {},
   "outputs": [
    {
     "data": {
      "text/plain": [
       "2"
      ]
     },
     "execution_count": 52,
     "metadata": {},
     "output_type": "execute_result"
    }
   ],
   "source": [
    "np.argmax(temp)"
   ]
  },
  {
   "cell_type": "code",
   "execution_count": 53,
   "id": "d7a44a1f",
   "metadata": {},
   "outputs": [
    {
     "data": {
      "text/plain": [
       "array([[313, 220, 582, 517, 560, 520, 221, 539, 271]])"
      ]
     },
     "execution_count": 53,
     "metadata": {},
     "output_type": "execute_result"
    }
   ],
   "source": [
    "# mainly numpy main jyada use hone wala function hai wo hai shape -- reshape karna \n",
    "# suppose temp matrix ka size 3 by 3 hai to iska multiplication ka jitnabhi hota hai for 3*3 = 9 hota hai to iske \n",
    "# combination main iska reshape ho sakta hai means what one by nine(1,9) , nine by one(9,1) ho sakta hai -- how to do that\n",
    "# suppose mujhe one by nine reshape karna hai then how\n",
    "temp.reshape(1,9)"
   ]
  },
  {
   "cell_type": "code",
   "execution_count": 54,
   "id": "ebbc0850",
   "metadata": {},
   "outputs": [
    {
     "data": {
      "text/plain": [
       "array([[313],\n",
       "       [220],\n",
       "       [582],\n",
       "       [517],\n",
       "       [560],\n",
       "       [520],\n",
       "       [221],\n",
       "       [539],\n",
       "       [271]])"
      ]
     },
     "execution_count": 54,
     "metadata": {},
     "output_type": "execute_result"
    }
   ],
   "source": [
    "# create (9,1)\n",
    "temp.reshape(9,1)"
   ]
  },
  {
   "cell_type": "code",
   "execution_count": 55,
   "id": "9ac60ea7",
   "metadata": {},
   "outputs": [
    {
     "data": {
      "text/plain": [
       "[array([313, 220, 582]), array([517, 560, 520]), array([221, 539, 271])]"
      ]
     },
     "execution_count": 55,
     "metadata": {},
     "output_type": "execute_result"
    }
   ],
   "source": [
    "# How to convert this array into list -- use type casting\n",
    "list(temp) # now we can perform list operation's on it"
   ]
  },
  {
   "cell_type": "code",
   "execution_count": 57,
   "id": "3844b009",
   "metadata": {},
   "outputs": [
    {
     "data": {
      "text/plain": [
       "array([0, 1, 2, 3, 4, 5, 6, 7, 8, 9])"
      ]
     },
     "execution_count": 57,
     "metadata": {},
     "output_type": "execute_result"
    }
   ],
   "source": [
    "# arrange bhi kar sakte hai\n",
    "a = np.arange(10)\n",
    "a"
   ]
  },
  {
   "cell_type": "code",
   "execution_count": 58,
   "id": "c192f9bb",
   "metadata": {},
   "outputs": [
    {
     "data": {
      "text/plain": [
       "(array([5, 6, 7, 8, 9], dtype=int64),)"
      ]
     },
     "execution_count": 58,
     "metadata": {},
     "output_type": "execute_result"
    }
   ],
   "source": [
    "# ab manlo mujhe element ka index chahiye -- suppose mujhe a main se 4 se greater element ka index chahiye not a element\n",
    "np.where(a>4) # So in output I will get index of elements who are greater than 4 and not the element's itself"
   ]
  },
  {
   "cell_type": "code",
   "execution_count": 59,
   "id": "bec837cb",
   "metadata": {},
   "outputs": [
    {
     "data": {
      "text/plain": [
       "array([ 34, 745,  24,  75,  34,  86, 354,  97,  35,  97])"
      ]
     },
     "execution_count": 59,
     "metadata": {},
     "output_type": "execute_result"
    }
   ],
   "source": [
    "a = np.array([34,745,24,75,34,86,354,97,35,97])\n",
    "a"
   ]
  },
  {
   "cell_type": "code",
   "execution_count": 60,
   "id": "48ba1f53",
   "metadata": {},
   "outputs": [
    {
     "data": {
      "text/plain": [
       "(array([1, 3, 5, 6, 7, 9], dtype=int64),)"
      ]
     },
     "execution_count": 60,
     "metadata": {},
     "output_type": "execute_result"
    }
   ],
   "source": [
    "np.where(a>45) # so in output it is giving the index number and not the value's"
   ]
  },
  {
   "cell_type": "code",
   "execution_count": 61,
   "id": "d741d835",
   "metadata": {},
   "outputs": [],
   "source": [
    "import pandas as pd"
   ]
  },
  {
   "cell_type": "code",
   "execution_count": 63,
   "id": "f1b6ddd8",
   "metadata": {},
   "outputs": [
    {
     "data": {
      "text/html": [
       "<div>\n",
       "<style scoped>\n",
       "    .dataframe tbody tr th:only-of-type {\n",
       "        vertical-align: middle;\n",
       "    }\n",
       "\n",
       "    .dataframe tbody tr th {\n",
       "        vertical-align: top;\n",
       "    }\n",
       "\n",
       "    .dataframe thead th {\n",
       "        text-align: right;\n",
       "    }\n",
       "</style>\n",
       "<table border=\"1\" class=\"dataframe\">\n",
       "  <thead>\n",
       "    <tr style=\"text-align: right;\">\n",
       "      <th></th>\n",
       "      <th>name</th>\n",
       "      <th>id</th>\n",
       "    </tr>\n",
       "  </thead>\n",
       "  <tbody>\n",
       "    <tr>\n",
       "      <th>0</th>\n",
       "      <td>sdf</td>\n",
       "      <td>101</td>\n",
       "    </tr>\n",
       "    <tr>\n",
       "      <th>1</th>\n",
       "      <td>asdf</td>\n",
       "      <td>102</td>\n",
       "    </tr>\n",
       "    <tr>\n",
       "      <th>2</th>\n",
       "      <td>asdf</td>\n",
       "      <td>103</td>\n",
       "    </tr>\n",
       "  </tbody>\n",
       "</table>\n",
       "</div>"
      ],
      "text/plain": [
       "   name   id\n",
       "0   sdf  101\n",
       "1  asdf  102\n",
       "2  asdf  103"
      ]
     },
     "execution_count": 63,
     "metadata": {},
     "output_type": "execute_result"
    }
   ],
   "source": [
    "df = pd.DataFrame({'name':['sdf','asdf','asdf'],\n",
    "                  'id':[101,102,103]})\n",
    "df"
   ]
  },
  {
   "cell_type": "code",
   "execution_count": 66,
   "id": "1c14f74b",
   "metadata": {},
   "outputs": [],
   "source": [
    "# Now isko mujhe ek numpy array karna hai then \n",
    "p = pd.Series([11,2,3],name = 'test')"
   ]
  },
  {
   "cell_type": "code",
   "execution_count": 67,
   "id": "0a0e1a5f",
   "metadata": {},
   "outputs": [
    {
     "data": {
      "text/html": [
       "<div>\n",
       "<style scoped>\n",
       "    .dataframe tbody tr th:only-of-type {\n",
       "        vertical-align: middle;\n",
       "    }\n",
       "\n",
       "    .dataframe tbody tr th {\n",
       "        vertical-align: top;\n",
       "    }\n",
       "\n",
       "    .dataframe thead th {\n",
       "        text-align: right;\n",
       "    }\n",
       "</style>\n",
       "<table border=\"1\" class=\"dataframe\">\n",
       "  <thead>\n",
       "    <tr style=\"text-align: right;\">\n",
       "      <th></th>\n",
       "      <th>name</th>\n",
       "      <th>id</th>\n",
       "      <th>test</th>\n",
       "    </tr>\n",
       "  </thead>\n",
       "  <tbody>\n",
       "    <tr>\n",
       "      <th>0</th>\n",
       "      <td>sdf</td>\n",
       "      <td>101</td>\n",
       "      <td>11</td>\n",
       "    </tr>\n",
       "    <tr>\n",
       "      <th>1</th>\n",
       "      <td>asdf</td>\n",
       "      <td>102</td>\n",
       "      <td>2</td>\n",
       "    </tr>\n",
       "    <tr>\n",
       "      <th>2</th>\n",
       "      <td>asdf</td>\n",
       "      <td>103</td>\n",
       "      <td>3</td>\n",
       "    </tr>\n",
       "  </tbody>\n",
       "</table>\n",
       "</div>"
      ],
      "text/plain": [
       "   name   id  test\n",
       "0   sdf  101    11\n",
       "1  asdf  102     2\n",
       "2  asdf  103     3"
      ]
     },
     "execution_count": 67,
     "metadata": {},
     "output_type": "execute_result"
    }
   ],
   "source": [
    "pd.concat([df,p],axis=1)"
   ]
  },
  {
   "cell_type": "code",
   "execution_count": null,
   "id": "4d523bb3",
   "metadata": {},
   "outputs": [],
   "source": [
    "# Now that will be converted into Series\n",
    "temp = pd.concat(np.array(3))"
   ]
  },
  {
   "cell_type": "code",
   "execution_count": 68,
   "id": "4cba5d19",
   "metadata": {},
   "outputs": [],
   "source": [
    "temp = np.array([45,754,35])"
   ]
  },
  {
   "cell_type": "code",
   "execution_count": 69,
   "id": "87c76355",
   "metadata": {},
   "outputs": [
    {
     "data": {
      "text/plain": [
       "array([ 45, 754,  35])"
      ]
     },
     "execution_count": 69,
     "metadata": {},
     "output_type": "execute_result"
    }
   ],
   "source": [
    "temp"
   ]
  },
  {
   "cell_type": "code",
   "execution_count": 70,
   "id": "a38d97fa",
   "metadata": {},
   "outputs": [
    {
     "data": {
      "text/plain": [
       "0     45\n",
       "1    754\n",
       "2     35\n",
       "Name: testd, dtype: int32"
      ]
     },
     "execution_count": 70,
     "metadata": {},
     "output_type": "execute_result"
    }
   ],
   "source": [
    "pd.Series(temp,name='testd')"
   ]
  },
  {
   "cell_type": "code",
   "execution_count": 72,
   "id": "0c08b31b",
   "metadata": {},
   "outputs": [
    {
     "data": {
      "text/html": [
       "<div>\n",
       "<style scoped>\n",
       "    .dataframe tbody tr th:only-of-type {\n",
       "        vertical-align: middle;\n",
       "    }\n",
       "\n",
       "    .dataframe tbody tr th {\n",
       "        vertical-align: top;\n",
       "    }\n",
       "\n",
       "    .dataframe thead th {\n",
       "        text-align: right;\n",
       "    }\n",
       "</style>\n",
       "<table border=\"1\" class=\"dataframe\">\n",
       "  <thead>\n",
       "    <tr style=\"text-align: right;\">\n",
       "      <th></th>\n",
       "      <th>name</th>\n",
       "      <th>id</th>\n",
       "      <th>testd</th>\n",
       "    </tr>\n",
       "  </thead>\n",
       "  <tbody>\n",
       "    <tr>\n",
       "      <th>0</th>\n",
       "      <td>sdf</td>\n",
       "      <td>101</td>\n",
       "      <td>45</td>\n",
       "    </tr>\n",
       "    <tr>\n",
       "      <th>1</th>\n",
       "      <td>asdf</td>\n",
       "      <td>102</td>\n",
       "      <td>754</td>\n",
       "    </tr>\n",
       "    <tr>\n",
       "      <th>2</th>\n",
       "      <td>asdf</td>\n",
       "      <td>103</td>\n",
       "      <td>35</td>\n",
       "    </tr>\n",
       "  </tbody>\n",
       "</table>\n",
       "</div>"
      ],
      "text/plain": [
       "   name   id  testd\n",
       "0   sdf  101     45\n",
       "1  asdf  102    754\n",
       "2  asdf  103     35"
      ]
     },
     "execution_count": 72,
     "metadata": {},
     "output_type": "execute_result"
    }
   ],
   "source": [
    "pd.concat([df,pd.Series(temp,name='testd')],axis=1)"
   ]
  },
  {
   "cell_type": "code",
   "execution_count": null,
   "id": "3aad1199",
   "metadata": {},
   "outputs": [],
   "source": [
    "# Numpy array ko humne pehale series main convert kiya fir usko concat kiya df "
   ]
  },
  {
   "cell_type": "code",
   "execution_count": null,
   "id": "39307115",
   "metadata": {},
   "outputs": [],
   "source": []
  },
  {
   "cell_type": "code",
   "execution_count": null,
   "id": "fcfc4f82",
   "metadata": {},
   "outputs": [],
   "source": []
  },
  {
   "cell_type": "code",
   "execution_count": null,
   "id": "77f5d292",
   "metadata": {},
   "outputs": [],
   "source": []
  },
  {
   "cell_type": "code",
   "execution_count": null,
   "id": "8edf204f",
   "metadata": {},
   "outputs": [],
   "source": []
  },
  {
   "cell_type": "code",
   "execution_count": null,
   "id": "e74e0414",
   "metadata": {},
   "outputs": [],
   "source": []
  }
 ],
 "metadata": {
  "kernelspec": {
   "display_name": "Python 3 (ipykernel)",
   "language": "python",
   "name": "python3"
  },
  "language_info": {
   "codemirror_mode": {
    "name": "ipython",
    "version": 3
   },
   "file_extension": ".py",
   "mimetype": "text/x-python",
   "name": "python",
   "nbconvert_exporter": "python",
   "pygments_lexer": "ipython3",
   "version": "3.9.13"
  }
 },
 "nbformat": 4,
 "nbformat_minor": 5
}
